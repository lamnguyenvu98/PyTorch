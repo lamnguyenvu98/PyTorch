{
  "nbformat": 4,
  "nbformat_minor": 0,
  "metadata": {
    "colab": {
      "name": "PyTorch_ANN_From_Scratch.ipynb",
      "provenance": [],
      "collapsed_sections": [],
      "authorship_tag": "ABX9TyOVAVYL30l/NF3jkdRf6cWg",
      "include_colab_link": true
    },
    "kernelspec": {
      "name": "python3",
      "display_name": "Python 3"
    },
    "language_info": {
      "name": "python"
    }
  },
  "cells": [
    {
      "cell_type": "markdown",
      "metadata": {
        "id": "view-in-github",
        "colab_type": "text"
      },
      "source": [
        "<a href=\"https://colab.research.google.com/github/lamnguyenvu98/PyTorch/blob/main/PyTorch_ANN_From_Scratch.ipynb\" target=\"_parent\"><img src=\"https://colab.research.google.com/assets/colab-badge.svg\" alt=\"Open In Colab\"/></a>"
      ]
    },
    {
      "cell_type": "markdown",
      "metadata": {
        "id": "LFjMdyjqUEVX"
      },
      "source": [
        "# Feedforward propagation\n",
        "\n",
        "1. Perform a sum product at each neuron\n",
        "2. Compute activation\n",
        "3. Repeat the first two steps at each neuron until the output layer.\n",
        "4. Compute the loss by comparing the prediction with the actual output"
      ]
    },
    {
      "cell_type": "code",
      "metadata": {
        "id": "RZfkibHdTxMr"
      },
      "source": [
        "import numpy as np"
      ],
      "execution_count": 54,
      "outputs": []
    },
    {
      "cell_type": "code",
      "metadata": {
        "id": "tVQ1UCXTVyCN"
      },
      "source": [
        "# Sigmoid activation function\n",
        "def sigmoid(x):\n",
        "    return 1 / (1 + np.exp(-x))"
      ],
      "execution_count": 55,
      "outputs": []
    },
    {
      "cell_type": "code",
      "metadata": {
        "id": "K9L8XxQUUhfW"
      },
      "source": [
        "def feed_forward(inputs, outputs, weights):\n",
        "    # calculate hidden layer values by performing the matrix multiplication\n",
        "    # (np.dot) of inouts and weight values ( weights[0] ) connecting the input layer\n",
        "    # to the hidden layer and add the bias term ( weights[1] ) associated with hidden layer's nodes:\n",
        "    pre_hidden = np.dot(inputs, weights[0]) + weights[1]\n",
        "\n",
        "    # Apply the sigmoid activation function on top of the hidden layer values\n",
        "    # obtained in the previous step - pre_hidden:\n",
        "    hidden = sigmoid(pre_hidden)\n",
        "\n",
        "    # Calculate the output layer values by performing the matrix multiplication (np.dot)\n",
        "    # of hidden layer activation values (hidden) and weights connection the hidden layer to the \n",
        "    # output layer ( weights[2] ) and summing the output with bias associated with the node \n",
        "    # in the output layer - weights[3]:\n",
        "    pred_out = np.dot(hidden, weights[2]) + weights[3]\n",
        "\n",
        "    # Calculate the mean squared error value across the dataset and return the mean\n",
        "    # squared error:\n",
        "    mean_squared_error = np.mean(np.square(pred_out - outputs))\n",
        "    return mean_squared_error"
      ],
      "execution_count": 56,
      "outputs": []
    },
    {
      "cell_type": "markdown",
      "metadata": {
        "id": "lTJ-F7tZXU7h"
      },
      "source": [
        "# Activation functions"
      ]
    },
    {
      "cell_type": "markdown",
      "metadata": {
        "id": "OHycc489XaVt"
      },
      "source": [
        "## Tanh\n",
        "\n",
        "The tanh activation of a value (the hidden layer unit value) is calculated as follows:"
      ]
    },
    {
      "cell_type": "code",
      "metadata": {
        "id": "9r5zVQavXYQU"
      },
      "source": [
        "def tanh(x):\n",
        "    return (np.exp(x) - np.exp(-x)) / (np.exp(x) + np.exp(-x))"
      ],
      "execution_count": 57,
      "outputs": []
    },
    {
      "cell_type": "markdown",
      "metadata": {
        "id": "uxeG0lv2X5wQ"
      },
      "source": [
        "## ReLu\n",
        "\n",
        "**The Rectified Linear Unit (ReLu)** of a value (the hidden layer unit value) is calculated as follows:"
      ]
    },
    {
      "cell_type": "code",
      "metadata": {
        "id": "6e0G-v6xYLuw"
      },
      "source": [
        "def relu(x):\n",
        "    return np.where(x>0, x, 0)"
      ],
      "execution_count": 58,
      "outputs": []
    },
    {
      "cell_type": "markdown",
      "metadata": {
        "id": "Si7EsJO3ZJIA"
      },
      "source": [
        "## Linear\n",
        "\n",
        "The linear activation function of a value is the value itself"
      ]
    },
    {
      "cell_type": "code",
      "metadata": {
        "id": "_uZXEG0zZQDk"
      },
      "source": [
        "def linear(x):\n",
        "    return x"
      ],
      "execution_count": 59,
      "outputs": []
    },
    {
      "cell_type": "markdown",
      "metadata": {
        "id": "FRBlTFwMZTvZ"
      },
      "source": [
        "## Softmax\n",
        "\n",
        "Softmax is performed on top of an array of values. This is generally done to determine the probability of an input belonging to one of the m number of possible output classes in a given scenario.\n",
        "\n",
        "For example, we are trying to classify an image of a digit into one of the possible 10 classes ( 0 to 9 ). In this case, there are 10 output values, where each output value should represent the probability of an input image belonging to one of the 10 classes. \n",
        "\n",
        "---\n",
        "\n",
        "**Note**: two operations on top of input x - `np.exp` will make all values positive, and the division by `np.sum(np.exp(x))` of all such exponents will force all the values to be in between 0 and 1. This range coincides with the probability of an event. And this is what we mean by returning a probability vector"
      ]
    },
    {
      "cell_type": "code",
      "metadata": {
        "id": "3vNEp9D7Z6ns"
      },
      "source": [
        "def softmax(x):\n",
        "    return np.exp(x) / np.sum(np.exp(x))"
      ],
      "execution_count": 60,
      "outputs": []
    },
    {
      "cell_type": "markdown",
      "metadata": {
        "id": "v9C-RauOap0l"
      },
      "source": [
        "# Loss functions \n",
        "\n",
        "Loss values ( which are minimized during training process ) are minimized by updating weight values. Define the proper loss function is the key to building a working and reliable neural network model. The loss functions that are generally used while building a neural network are:\n",
        "\n",
        "1. **Mean squared error**\n",
        "\n",
        "Th mean squared error (MSE) is the squared difference between the actual and the predicted values of the output. We take square of the error, as the error can be positive or negative. Squaring ensures that positive and negative errors do not offset each other. We calculate **mean** of the squared error so that the error over two difference datasets is comparable when the datasets are not of the same size.\n",
        "\n",
        "*MSE is typically used when trying to predict a value that is continuous in nature.*"
      ]
    },
    {
      "cell_type": "code",
      "metadata": {
        "id": "J5jOCLjmbMfO"
      },
      "source": [
        "def mse(p, y):\n",
        "    return np.mean(np.square(p - y))"
      ],
      "execution_count": 61,
      "outputs": []
    },
    {
      "cell_type": "markdown",
      "metadata": {
        "id": "KIqa7p52cFxV"
      },
      "source": [
        "2. **Mean absolute error**\n",
        "\n",
        "The mean absolute error (MAE) works in a manner that is very similar to MSE. MAE ensures that positive and negative errors do not offset each other by taking an average of the absolute difference between the actual and predicted values across all data points.\n",
        "\n",
        "MAE is generally employed on continuous variables. In general, it is preferable to have a MAE as a loss function when the outputs to predict have a value less than 1, MSE would reduce the magnitude of loss considerably ( the square of a number between 1 and  -1 is an even smaller number ) when the expected output is less than 1."
      ]
    },
    {
      "cell_type": "code",
      "metadata": {
        "id": "dhuljkX3dMl6"
      },
      "source": [
        "def mae(p, y):\n",
        "    return np.mean(np.abs(p - y))"
      ],
      "execution_count": 62,
      "outputs": []
    },
    {
      "cell_type": "markdown",
      "metadata": {
        "id": "-Nny2xOYdTWu"
      },
      "source": [
        "3. **Binary cross-entropy**\n",
        "\n",
        "Cross-entropy (CE) is a measure of the difference between two different distributions: actual and predicted. BCE is applied to binary output data, unlike previous two loss functions ( which applied during continuous variable prediction ).\n",
        "\n",
        "\n",
        "**Note**: BCE loss has a high value when the predicted value is far away from the actual value and a low value when the predicted and actual are close."
      ]
    },
    {
      "cell_type": "code",
      "metadata": {
        "id": "F7NzCLTwd_bQ"
      },
      "source": [
        "def binary_cross_entropy(p, y):\n",
        "    return -np.mean(np.sum((y * np.log(p) + (1-y)*np.log(1 - p))))"
      ],
      "execution_count": 63,
      "outputs": []
    },
    {
      "cell_type": "markdown",
      "metadata": {
        "id": "MJ3_0KiteUyd"
      },
      "source": [
        "4. **Categorical cross-entropy**\n",
        "\n",
        "Categorical cross-entropy (CCE) is used to predict the datasets which have a number of classes, such as dog, cat, horse, rat,..."
      ]
    },
    {
      "cell_type": "code",
      "metadata": {
        "id": "hbPCzmWgeQqY"
      },
      "source": [
        "def catagorical_cross_entropy(p, y):\n",
        "    return -np.mean(np.sum(y*np.log(p)))"
      ],
      "execution_count": 64,
      "outputs": []
    },
    {
      "cell_type": "markdown",
      "metadata": {
        "id": "MFzSozGZfESj"
      },
      "source": [
        "# Implementing backpropagation\n",
        "\n",
        "In feedforward propagation, we connected the input layer to the hidden layer, which then was connected to the output layer. In the first iteration, we initialized weights randomly and then calculated the loss resulting from those weight values. In backpropagation, we take the reverse approach. We start with the loss value obtained in feedforward propagation and update the weights of the network in such a way that the loss value is minimized as much as possible.\n",
        "\n",
        "The loss value is reduced as we perform the following steps:\n",
        "\n",
        "1. Change each weight within the neural network by a small amount - one at a time\n",
        "2. Measure the change in loss (dL) when the weight value is changed (dW).\n",
        "3. Update the weight by -k * (dL / dW), where k is positive value and is a hyperparameter known as the **learning rate**.\n",
        "\n",
        "---\n",
        "\n",
        "*Note that the update made to a particular weight is proportional to the amount of loss that is reduced by changing it by a small amount. Intuitively, if changing a weight reduces the loss by a large value, then we can update the weight by a large amount. However, if the loss reduction is small by changing the weight, then we update it only by a small amount.*"
      ]
    },
    {
      "cell_type": "markdown",
      "metadata": {
        "id": "5sX9H8gkhT96"
      },
      "source": [
        "## Gradient Descent\n",
        "\n",
        "This whole process by which we update weights to reduce errors is called **gradient descent**.\n",
        "\n",
        "**Stochastic gradient descent** is how errors are minimized in the preceding scenario. As mentioned earlier, **gradient** stands for the difference (which is the difference in loss values when the weight value is updated by a small amount) and **descent** means to reduce. **Stochastic** stands for the selection of random samples based on which a decision is taken.\n",
        "\n",
        "---"
      ]
    },
    {
      "cell_type": "markdown",
      "metadata": {
        "id": "IX8CnFfohuIG"
      },
      "source": [
        "1. Define the feedforward network and calculate the mean squared error value. (did it in section **Forward propagation** above).\n",
        "\n",
        "2. Increase each weight and bias value by a very small amount (0.0001) and calculate the overall squared error loss value one at a time for each of the weight and bias updates."
      ]
    },
    {
      "cell_type": "code",
      "metadata": {
        "id": "6bjKlUOQfWUM"
      },
      "source": [
        "from copy import deepcopy\n",
        "# As the weights will be manipulated in later steps, deepcopy ensures we can work with multiple\n",
        "# copies of weights without disturbing actual weights. We will create 3 copies of the original set \n",
        "# of weights that were passed as an input to the function - original_weights, temp_weights and\n",
        "# updated_weight"
      ],
      "execution_count": 65,
      "outputs": []
    },
    {
      "cell_type": "markdown",
      "metadata": {
        "id": "WNSKGO1FDZ87"
      },
      "source": [
        "In order to update weight, we need to calculate loss, which is the result returned by `feed_forward` function we implemented above:"
      ]
    },
    {
      "cell_type": "code",
      "metadata": {
        "id": "o4ezr3E3DQll"
      },
      "source": [
        "def feed_forward(inputs, outputs, weights):\n",
        "    pre_hidden = np.dot(inputs, weights[0]) + weights[1]\n",
        "\n",
        "    hidden = sigmoid(pre_hidden)\n",
        "\n",
        "    pred_out = np.dot(hidden, weights[2]) + weights[3]\n",
        "\n",
        "    mean_squared_error = np.mean(np.square(pred_out - outputs))\n",
        "    \n",
        "    return mean_squared_error"
      ],
      "execution_count": null,
      "outputs": []
    },
    {
      "cell_type": "markdown",
      "metadata": {
        "id": "DTIiX0NtjccH"
      },
      "source": [
        "Creating a function named `update_weights`, which performs the gradient descent process to update weights. The inputs to the function are the input variables to the network – `inputs`, expected `outputs`, `weights` (which are randomly initialized at the start of training the model), and the learning rate of the model – `lr`"
      ]
    },
    {
      "cell_type": "code",
      "metadata": {
        "id": "iL3ARQYSjs4V"
      },
      "source": [
        "def update_weights(inputs, outputs, weights, lr):\n",
        "    original_weights = deepcopy(weights)\n",
        "    temp_weights = deepcopy(weights)\n",
        "    updated_weights = deepcopy(weights)\n",
        "\n",
        "    # Calculate loss value (original_loss) with the original set of weights by passing inputs, outputs\n",
        "    # and original_weights through the feed_forward function:\n",
        "    original_loss = feed_forward(inputs, outputs, original_weights)\n",
        "\n",
        "    # Loop through all the layers of the network:\n",
        "    for i, layer in enumerate(original_weights):\n",
        "        # There are 4 lists of parameters within our neural network;\n",
        "        # 2 lists for weights and bias parameters that connect the input to hidden layer\n",
        "        # 2 lists of weights and bias parameters that connect the hidden layer to output layer\n",
        "        # loop through individual parameters and because each list has a difference shape\n",
        "        # we leverage np.ndenumerate to loop through each parameter within a given list:\n",
        "        for index, weight in np.ndenumerate(layer):\n",
        "            # Store original_weights in temp_weights. Select its index weight present in the i layer\n",
        "            # and increase it by a small value. Finally, compute the new loss with the new set of weights:\n",
        "            temp_weights = deepcopy(weights) # reset temp_weights to original weights\n",
        "            temp_weights[i][index] += 0.0001\n",
        "            _loss_plus = feed_forward(inputs, outputs, temp_weights)\n",
        "\n",
        "            # Calculate the gradient (change in loss value) due to the weight change:\n",
        "            # updating a params by very small amount then \n",
        "            # calculating the gradient is equivalent to the process of differentiation\n",
        "            grad = (_loss_plus - original_loss) / (0.0001) \n",
        "\n",
        "            # update weights\n",
        "            updated_weights[i][index] -= grad*lr\n",
        "    \n",
        "    return updated_weights, original_loss"
      ],
      "execution_count": 72,
      "outputs": []
    },
    {
      "cell_type": "markdown",
      "metadata": {
        "id": "sib_Izil8w-m"
      },
      "source": [
        "# Implementing backpropagation using the chain rule"
      ]
    },
    {
      "cell_type": "markdown",
      "metadata": {
        "id": "hXE4TgmqrMbw"
      },
      "source": [
        "### Initialize input x and output y"
      ]
    },
    {
      "cell_type": "code",
      "metadata": {
        "id": "RYHroEu883Pv"
      },
      "source": [
        "x = np.array([[1, 1]])\n",
        "y = np.array([[0]])"
      ],
      "execution_count": 201,
      "outputs": []
    },
    {
      "cell_type": "markdown",
      "metadata": {
        "id": "L7BkpAYYrTGc"
      },
      "source": [
        "### Initialize weights\n",
        "\n",
        "Weight W is a list of numpy arrays. First array is a weight connect input with hidden layer. We have input with shape (1, 2) -> 2 input, and we have 3 nodes in hidden layer with shape (1,3) => first array in list W should have shape (2,3) because input dot weight = (1, 2) dot (2, 3) = (1, 3).\n",
        "\n",
        "The second array in a list is our bias, which will sum with result of the dot between input and weight connect input to hidden layer. Because result of the dot is (1, 3) => bias will have shape (1, 3).\n",
        "\n",
        "The third array is the weight connect hidden layer to output layer. We only have one output so the shape of output is (1, 1). Shape of hidden layer is (1, 3), like explained above => weight has shape (3, 1)\n",
        "`np.array([[ 0.1528,-0.1745,-0.1135]],dtype=np.float32)` has shape (1, 3) but we transpose it using `.T` the shape will become (3, 1).\n",
        "\n",
        "The last array is bias, has shape (1, 1)."
      ]
    },
    {
      "cell_type": "code",
      "metadata": {
        "colab": {
          "base_uri": "https://localhost:8080/"
        },
        "id": "3UrI3_kGkPo_",
        "outputId": "9e6403ca-7b6a-4275-b1bd-9e1269d6a7e6"
      },
      "source": [
        "W = [\n",
        "    np.array([[-0.0053, 0.3793], \n",
        "              [-0.5820, -0.5204],\n",
        "              [-0.2723, 0.1896]], dtype=np.float32).T, \n",
        "    np.array([[-0.0140, 0.5607, -0.0628]], dtype=np.float32), \n",
        "    np.array([[ 0.1528,-0.1745,-0.1135]],dtype=np.float32).T, \n",
        "    np.array([[-0.5516]], dtype=np.float32)\n",
        "]\n",
        "W[0].shape, W[1].shape, W[2].shape, W[3].shape"
      ],
      "execution_count": 202,
      "outputs": [
        {
          "output_type": "execute_result",
          "data": {
            "text/plain": [
              "((2, 3), (1, 3), (3, 1), (1, 1))"
            ]
          },
          "metadata": {
            "tags": []
          },
          "execution_count": 202
        }
      ]
    },
    {
      "cell_type": "markdown",
      "metadata": {
        "id": "Y5LhCWFeEEVs"
      },
      "source": [
        "Feed forward to calculate loss. Now we can choose which activation function in hidden layer"
      ]
    },
    {
      "cell_type": "code",
      "metadata": {
        "id": "X9qkQMGIEMzz"
      },
      "source": [
        "def feed_forward_mode(inputs, outputs, weights, mode):\n",
        "    pre_hidden = np.dot(inputs, weights[0]) + weights[1]\n",
        "\n",
        "    if mode == \"sigmoid\":\n",
        "        hidden = sigmoid(pre_hidden)\n",
        "    elif mode == \"tanh\":\n",
        "        hidden = tanh(pre_hidden)\n",
        "    elif mode == \"relu\":\n",
        "        hidden = relu(pre_hidden)\n",
        "    elif mode == \"linear\":\n",
        "        hidden = linear(pre_hidden)\n",
        "    elif mode == \"softmax\":\n",
        "        hidden = softmax(pre_hidden)\n",
        "    \n",
        "    pred_out = np.dot(hidden, weights[2]) + weights[3]\n",
        "\n",
        "    mean_squared_error = np.mean(np.square(pred_out - outputs))\n",
        "    \n",
        "    return mean_squared_error"
      ],
      "execution_count": 223,
      "outputs": []
    },
    {
      "cell_type": "markdown",
      "metadata": {
        "id": "yN5s3zxAFKFj"
      },
      "source": [
        "Updated weight"
      ]
    },
    {
      "cell_type": "code",
      "metadata": {
        "id": "7yF2jlYFFMtI"
      },
      "source": [
        "def update_weights(inputs, outputs, weights, lr, mode=\"sigmoid\"):\n",
        "    original_weights = deepcopy(weights)\n",
        "    temp_weights = deepcopy(weights)\n",
        "    updated_weights = deepcopy(weights)\n",
        "\n",
        "    original_loss = feed_forward_mode(inputs, outputs, original_weights, mode)\n",
        "\n",
        "    for i, layer in enumerate(original_weights):\n",
        "        for index, weight in np.ndenumerate(layer):\n",
        "            temp_weights = deepcopy(weights) # reset temp_weights to original weights\n",
        "\n",
        "            temp_weights[i][index] += 0.0001\n",
        "\n",
        "            _loss_plus = feed_forward_mode(inputs, outputs, temp_weights, mode)\n",
        "\n",
        "            grad = (_loss_plus - original_loss) / (0.0001) \n",
        "\n",
        "            updated_weights[i][index] -= grad*lr\n",
        "    \n",
        "    return updated_weights, original_loss"
      ],
      "execution_count": 209,
      "outputs": []
    },
    {
      "cell_type": "markdown",
      "metadata": {
        "id": "jCsHGe17wouZ"
      },
      "source": [
        "### Train network with number of epochs\n",
        "\n",
        "Create losses list to append loss calculated in each epoch ( We train this network in 1200 epochs ). After 1200 epoch, the weight W will get updated."
      ]
    },
    {
      "cell_type": "code",
      "metadata": {
        "id": "wR6Pzqb5n0wU"
      },
      "source": [
        "losses = []\n",
        "for epoch in range(1200):\n",
        "    W, loss = update_weights(x, y, W, 0.001, mode=\"sigmoid\")\n",
        "    losses.append(loss)"
      ],
      "execution_count": 227,
      "outputs": []
    },
    {
      "cell_type": "markdown",
      "metadata": {
        "id": "Fa46t6g7w_M2"
      },
      "source": [
        "### Visualize our loss"
      ]
    },
    {
      "cell_type": "code",
      "metadata": {
        "colab": {
          "base_uri": "https://localhost:8080/",
          "height": 312
        },
        "id": "H7yIdEUbooKz",
        "outputId": "84994b45-b8af-4068-e787-19c630289907"
      },
      "source": [
        "import matplotlib.pyplot as plt\n",
        "%matplotlib inline\n",
        "plt.plot(losses)\n",
        "plt.title('Loss over increasing number of epochs')\n",
        "plt.xlabel('Epochs')\n",
        "plt.ylabel('Loss value')"
      ],
      "execution_count": 228,
      "outputs": [
        {
          "output_type": "execute_result",
          "data": {
            "text/plain": [
              "Text(0, 0.5, 'Loss value')"
            ]
          },
          "metadata": {
            "tags": []
          },
          "execution_count": 228
        },
        {
          "output_type": "display_data",
          "data": {
            "image/png": "[encoded data removed]",
            "text/plain": [
              "<Figure size 432x288 with 1 Axes>"
            ]
          },
          "metadata": {
            "tags": [],
            "needs_background": "light"
          }
        }
      ]
    },
    {
      "cell_type": "markdown",
      "metadata": {
        "id": "BAkuiPE1xDx3"
      },
      "source": [
        "### Show weight W values"
      ]
    },
    {
      "cell_type": "code",
      "metadata": {
        "colab": {
          "base_uri": "https://localhost:8080/"
        },
        "id": "VjlINl5Oo_2f",
        "outputId": "35c6d117-73d6-40e3-d7f6-9d5979be9491"
      },
      "source": [
        "# output weights\n",
        "W"
      ],
      "execution_count": 126,
      "outputs": [
        {
          "output_type": "execute_result",
          "data": {
            "text/plain": [
              "[array([[ 0.01476338, -0.5907701 , -0.2753466 ],\n",
              "        [ 0.3993606 , -0.5291701 ,  0.18655287]], dtype=float32),\n",
              " array([ 0.00606338,  0.5519299 , -0.06584736], dtype=float32),\n",
              " array([[ 0.35041773],\n",
              "        [-0.05358773],\n",
              "        [ 0.03979613]], dtype=float32),\n",
              " array([-0.21971549], dtype=float32)]"
            ]
          },
          "metadata": {
            "tags": []
          },
          "execution_count": 126
        }
      ]
    },
    {
      "cell_type": "markdown",
      "metadata": {
        "id": "_5ljKnO1pN7J"
      },
      "source": [
        "## Make prediction\n",
        "\n",
        "Now we just forward pass the input with set of weight  W updated after training process then get the output, which is prediction of our network."
      ]
    },
    {
      "cell_type": "code",
      "metadata": {
        "colab": {
          "base_uri": "https://localhost:8080/"
        },
        "id": "zQiYXp6mpQkv",
        "outputId": "917f61cd-17a9-48e5-af3c-ba52daecab16"
      },
      "source": [
        "pre_hid = np.dot(x, W[0]) + W[1]\n",
        "hid = sigmoid(pre_hid)\n",
        "predout = np.dot(hid, W[2]) + W[3]\n",
        "predout"
      ],
      "execution_count": 229,
      "outputs": [
        {
          "output_type": "execute_result",
          "data": {
            "text/plain": [
              "array([[-0.00262035]])"
            ]
          },
          "metadata": {
            "tags": []
          },
          "execution_count": 229
        }
      ]
    },
    {
      "cell_type": "markdown",
      "metadata": {
        "id": "GsjpBkhnqRSB"
      },
      "source": [
        "**Prediction of this network is -0.00262035, which is very close to 0 (our target output)**\n",
        "\n",
        "---\n",
        "\n",
        "---\n",
        "\n"
      ]
    },
    {
      "cell_type": "markdown",
      "metadata": {
        "id": "wZ-a1XZ7ysV9"
      },
      "source": [
        "# Understanding the impact of the learning rate\n",
        "\n",
        "In order to understand how learning rate impacts the training of a model, let's consider a very simple case, where we try to fit the following equation (note that the following equation is different from the toy dataset that we have been working on so far):\n",
        "\n",
        "` y = 3 * x`\n",
        "\n",
        "Note that y is the output and x is the input. With a set of input and expected output values, we will try and fit the equation with varying learning rates to understand the impact of the learning rate."
      ]
    },
    {
      "cell_type": "markdown",
      "metadata": {
        "id": "Y80kpuvTy8tE"
      },
      "source": [
        "## Specify the input and output datasets"
      ]
    },
    {
      "cell_type": "code",
      "metadata": {
        "id": "wzPsv6Q9zC5J"
      },
      "source": [
        "X = [[1], [2], [3], [4]]\n",
        "Y = [[3], [6], [9], [12]]"
      ],
      "execution_count": 134,
      "outputs": []
    },
    {
      "cell_type": "markdown",
      "metadata": {
        "id": "UTU3Z1XKzR2Y"
      },
      "source": [
        "## Define the `Feed_Forward` function\n",
        "\n",
        "we will modify the network in such a way that we do not have a hidden layer and the architecture is as follows:\n",
        "\n",
        "`y = w * x + b`"
      ]
    },
    {
      "cell_type": "code",
      "metadata": {
        "id": "MyyOa3XQzkFk"
      },
      "source": [
        "from copy import deepcopy\n",
        "import numpy as np\n",
        "\n",
        "def Feed_Forward(inputs, outputs, weights):\n",
        "    pred_out = np.dot(inputs, weights[0]) + weights[1]\n",
        "    mean_square_error = np.mean(np.square(pred_out - outputs))\n",
        "    return mean_square_error"
      ],
      "execution_count": 135,
      "outputs": []
    },
    {
      "cell_type": "markdown",
      "metadata": {
        "id": "4IvHwzo40ATH"
      },
      "source": [
        "## Define the `Update_Weights` function"
      ]
    },
    {
      "cell_type": "code",
      "metadata": {
        "id": "HtU-pEEw0Flg"
      },
      "source": [
        "def Update_Weights(inputs, outputs, weights, lr):\n",
        "    original_weights = deepcopy(weights)\n",
        "    org_loss = Feed_Forward(inputs, outputs, original_weights)\n",
        "    updated_weights = deepcopy(weights)\n",
        "    for i, layer in enumerate(original_weights):\n",
        "        for index, weight in np.ndenumerate(layer):\n",
        "            temp_weights = deepcopy(weights)\n",
        "            temp_weights[i][index] += 0.0001\n",
        "            _loss_plus = Feed_Forward(inputs, outputs, temp_weights)\n",
        "            grad = (_loss_plus - org_loss) / (0.0001)\n",
        "            updated_weights[i][index] -= grad*lr \n",
        "    \n",
        "    return updated_weights"
      ],
      "execution_count": 136,
      "outputs": []
    },
    {
      "cell_type": "markdown",
      "metadata": {
        "id": "FSH6IH721GGU"
      },
      "source": [
        "## Initialize weight and bias values to a random value \n",
        "\n",
        "Note that the weight and bias values are randomly initialized to values of 0. Further, the shape of the input weight value is 1 x 1, as the shape of each data point in the input is 1 x 1 and the shape of the bias value is  1 x 1 (as there is only one node in the output and each output has one value)."
      ]
    },
    {
      "cell_type": "code",
      "metadata": {
        "id": "B-yMqLuD1NtQ"
      },
      "source": [
        "Wnew = [np.array([[0]], dtype=np.float32), \n",
        "     np.array([[0]], dtype=np.float32)]"
      ],
      "execution_count": 150,
      "outputs": []
    },
    {
      "cell_type": "markdown",
      "metadata": {
        "id": "iEiQKWQp1cEs"
      },
      "source": [
        "## Leverage the `Update_Weights` function\n",
        "\n",
        "lr = 0.01, loop through 1000 iterations, and check how the weight value (Wnew) varies over increasing epochs:"
      ]
    },
    {
      "cell_type": "code",
      "metadata": {
        "id": "svXaboEp1xEu"
      },
      "source": [
        "weight_value = []\n",
        "\n",
        "for epx in range(1000):\n",
        "    Wnew = Update_Weights(X, Y, Wnew, 0.01)\n",
        "    weight_value.append(Wnew[0][0][0])"
      ],
      "execution_count": 153,
      "outputs": []
    },
    {
      "cell_type": "markdown",
      "metadata": {
        "id": "sedmuccH2ZhP"
      },
      "source": [
        "## Plot the value of weight parameter at the end of each epoch"
      ]
    },
    {
      "cell_type": "code",
      "metadata": {
        "colab": {
          "base_uri": "https://localhost:8080/",
          "height": 312
        },
        "id": "pu_XNxyH2dzf",
        "outputId": "b3328da5-1637-4aad-dec0-2eb32bd9e7e7"
      },
      "source": [
        "import matplotlib.pyplot as plt\n",
        "%matplotlib inline\n",
        "epochs = range(1, 1001)\n",
        "plt.plot(epochs, weight_value)\n",
        "plt.title('Weight value over increasing epochs when learning rate is 0.01')\n",
        "plt.xlabel('Epochs')\n",
        "plt.ylabel('Weight value')"
      ],
      "execution_count": 154,
      "outputs": [
        {
          "output_type": "execute_result",
          "data": {
            "text/plain": [
              "Text(0, 0.5, 'Weight value')"
            ]
          },
          "metadata": {
            "tags": []
          },
          "execution_count": 154
        },
        {
          "output_type": "display_data",
          "data": {
            "image/png": "[encoded data removed]",
            "text/plain": [
              "<Figure size 432x288 with 1 Axes>"
            ]
          },
          "metadata": {
            "tags": [],
            "needs_background": "light"
          }
        }
      ]
    },
    {
      "cell_type": "markdown",
      "metadata": {
        "id": "l23A3Z_KA-sJ"
      },
      "source": [
        "## Compare weights value updating in each learning rate value"
      ]
    },
    {
      "cell_type": "code",
      "metadata": {
        "id": "5UClGAJA5Rlg"
      },
      "source": [
        "Wnew001 = [np.array([[0]], dtype=np.float32), \n",
        "     np.array([[0]], dtype=np.float32)]\n",
        "\n",
        "Wnew01 = [np.array([[0]], dtype=np.float32), \n",
        "     np.array([[0]], dtype=np.float32)]\n",
        "\n",
        "Wnew1 = [np.array([[0]], dtype=np.float32), \n",
        "     np.array([[0]], dtype=np.float32)]"
      ],
      "execution_count": 155,
      "outputs": []
    },
    {
      "cell_type": "code",
      "metadata": {
        "id": "pfzJKngi5XqJ"
      },
      "source": [
        "weight_value_lr001 = []\n",
        "weight_value_lr01 = []\n",
        "weight_value_lr1 = []\n",
        "\n",
        "for epx in range(1000):\n",
        "    Wnew001 = Update_Weights(X, Y, Wnew001, 0.01)\n",
        "    weight_value_lr001.append(Wnew001[0][0][0])\n",
        "\n",
        "for epx in range(1000):\n",
        "    Wnew01 = Update_Weights(X, Y, Wnew01, 0.1)\n",
        "    weight_value_lr01.append(Wnew01[0][0][0])\n",
        "\n",
        "for epx in range(1000):\n",
        "    Wnew1 = Update_Weights(X, Y, Wnew1, 1)\n",
        "    weight_value_lr1.append(Wnew1[0][0][0])"
      ],
      "execution_count": 156,
      "outputs": []
    },
    {
      "cell_type": "code",
      "metadata": {
        "colab": {
          "base_uri": "https://localhost:8080/",
          "height": 989
        },
        "id": "Otjm6KVc5iAB",
        "outputId": "926a5782-f1ce-4523-f73e-5820530c6179"
      },
      "source": [
        "import matplotlib.pyplot as plt\n",
        "%matplotlib inline\n",
        "epochs = range(1, 1001)\n",
        "fig, axs = plt.subplots(3)\n",
        "fig.set_size_inches(10, 15)\n",
        "fig.text(0.5, 0.01, 'Epochs', ha='center', fontSize='x-large')\n",
        "fig.text(0.01, 0.5, 'Weight values', va='center', rotation='vertical', fontSize='x-large')\n",
        "\n",
        "axs[0].plot(epochs, weight_value_lr001)\n",
        "axs[0].set_title('lr = 0.01')\n",
        "\n",
        "axs[1].plot(epochs, weight_value_lr01)\n",
        "axs[1].set_title('lr = 0.1')\n",
        "\n",
        "axs[2].plot(epochs, weight_value_lr1)\n",
        "axs[2].set_title('lr = 1')\n",
        "\n",
        "# for ax in axs.flat:\n",
        "#     ax.set(xlabel='Epochs', ylabel='Weights')\n",
        "\n",
        "plt.show()"
      ],
      "execution_count": 195,
      "outputs": [
        {
          "output_type": "display_data",
          "data": {
            "image/png": "[encoded data removed]",
            "text/plain": [
              "<Figure size 720x1080 with 3 Axes>"
            ]
          },
          "metadata": {
            "tags": [],
            "needs_background": "light"
          }
        }
      ]
    },
    {
      "cell_type": "markdown",
      "metadata": {
        "id": "IhKd9aQdBRch"
      },
      "source": [
        " - **lr = 0.01**: the weight value moved slowly (over a higher number of epochs) towards the optimal value.\n",
        "\n",
        " - **lr = 0.1**: the weight value oscillated initially and then quickly saturated (in a few epochs) to the optimal value.\n",
        "\n",
        " - **lr = 1**: the weight value spiked to a very high value and was not able to reach the optimal value.\n",
        "\n",
        "The reason the weight value did not spike by a large amount when the learning rate was low is that we restricted the weight update by an amount that was equal to the gradient * learning rate, essentially resulting in a small amount of weight update when the learning rate was small.\n",
        "\n",
        "However, when the learning rate was high, weight update was high, after which the change in loss (when the weight was updated by a small value) was so small that the weight could not achieve the optimal value."
      ]
    },
    {
      "cell_type": "markdown",
      "metadata": {
        "id": "rHr7WRgRJR95"
      },
      "source": [
        "## Print weight values to see how they vary over increasing epochs\n",
        "\n",
        "- Weight value at the start of each epoch\n",
        "- Loss prior to weight update\n",
        "- Loss when the weight is updated by a small amount\n",
        "- Gradient value\n",
        "\n",
        "Implement new update weight function `Update_Weights_modified`"
      ]
    },
    {
      "cell_type": "code",
      "metadata": {
        "id": "B5ovvxpxJ5Du"
      },
      "source": [
        "def Update_Weights_modified(inputs, outputs, weights, lr):\n",
        "    original_weights = deepcopy(weights)\n",
        "    org_loss = Feed_Forward(inputs, outputs, original_weights)\n",
        "    updated_weights = deepcopy(weights)\n",
        "    for i, layer in enumerate(original_weights):\n",
        "        for index, weight in np.ndenumerate(layer):\n",
        "            temp_weights = deepcopy(weights)\n",
        "            temp_weights[i][index] += 0.0001\n",
        "            _loss_plus = Feed_Forward(inputs, outputs, temp_weights)\n",
        "            grad = (_loss_plus - org_loss) / (0.0001)\n",
        "            updated_weights[i][index] -= grad*lr \n",
        "            if (i % 2 == 0):\n",
        "                print('weight value: ', np.round(original_weights[i][index], 2), \n",
        "                      ', original loss: ', np.round(org_loss, 2), \n",
        "                      ', loss_plus: ', np.round(_loss_plus, 2), \n",
        "                      ', gradient: ', np.round(grad, 2), \n",
        "                      ', updated weights: ', np.round(updated_weights[i][index], 2))\n",
        "    return updated_weights"
      ],
      "execution_count": 236,
      "outputs": []
    },
    {
      "cell_type": "markdown",
      "metadata": {
        "id": "YeHy0syNLqp6"
      },
      "source": [
        "### Learning rate of 0.01"
      ]
    },
    {
      "cell_type": "code",
      "metadata": {
        "colab": {
          "base_uri": "https://localhost:8080/",
          "height": 503
        },
        "id": "U2n1eUSALuxY",
        "outputId": "e45500ad-2437-44cd-c84e-aa5a0ea3cee8"
      },
      "source": [
        "X = [[1], [2], [3], [4]]\n",
        "Y = [[3], [6], [9], [12]]\n",
        "\n",
        "W_new = [np.array([[0]], dtype=np.float32), \n",
        "     np.array([[0]], dtype=np.float32)]\n",
        "\n",
        "weight_value_new = []\n",
        "for exp in range(10):\n",
        "    W_new = Update_Weights_modified(X, Y, W_new, 0.01)\n",
        "    weight_value_new.append(W_new[0][0][0])\n",
        "\n",
        "print(W_new)\n",
        "\n",
        "import matplotlib.pyplot as plt\n",
        "%matplotlib inline\n",
        "epochs = range(1, 11)\n",
        "plt.plot(epochs,weight_value_new)\n",
        "plt.title('Weight value over increasing epochs when learning rate is 0.01')\n",
        "plt.xlabel('Epochs')\n",
        "plt.ylabel('Weight value')"
      ],
      "execution_count": 237,
      "outputs": [
        {
          "output_type": "stream",
          "text": [
            "weight value:  0.0 , original loss:  67.5 , loss_plus:  67.5 , gradient:  -45.0 , updated weights:  0.45\n",
            "weight value:  0.45 , original loss:  46.88 , loss_plus:  46.88 , gradient:  -37.49 , updated weights:  0.82\n",
            "weight value:  0.82 , original loss:  32.57 , loss_plus:  32.57 , gradient:  -31.26 , updated weights:  1.14\n",
            "weight value:  1.14 , original loss:  22.64 , loss_plus:  22.64 , gradient:  -26.05 , updated weights:  1.4\n",
            "weight value:  1.4 , original loss:  15.75 , loss_plus:  15.75 , gradient:  -21.72 , updated weights:  1.62\n",
            "weight value:  1.62 , original loss:  10.97 , loss_plus:  10.97 , gradient:  -18.1 , updated weights:  1.8\n",
            "weight value:  1.8 , original loss:  7.65 , loss_plus:  7.65 , gradient:  -15.09 , updated weights:  1.95\n",
            "weight value:  1.95 , original loss:  5.35 , loss_plus:  5.35 , gradient:  -12.59 , updated weights:  2.07\n",
            "weight value:  2.07 , original loss:  3.75 , loss_plus:  3.75 , gradient:  -10.49 , updated weights:  2.18\n",
            "weight value:  2.18 , original loss:  2.64 , loss_plus:  2.64 , gradient:  -8.75 , updated weights:  2.27\n",
            "[array([[2.265477]], dtype=float32), array([[0.7404298]], dtype=float32)]\n"
          ],
          "name": "stdout"
        },
        {
          "output_type": "execute_result",
          "data": {
            "text/plain": [
              "Text(0, 0.5, 'Weight value')"
            ]
          },
          "metadata": {
            "tags": []
          },
          "execution_count": 237
        },
        {
          "output_type": "display_data",
          "data": {
            "image/png": "[encoded data removed]",
            "text/plain": [
              "<Figure size 432x288 with 1 Axes>"
            ]
          },
          "metadata": {
            "tags": [],
            "needs_background": "light"
          }
        }
      ]
    },
    {
      "cell_type": "markdown",
      "metadata": {
        "id": "2aN9aLg5NhC8"
      },
      "source": [
        "*Note that, when the learning rate was 0.01, the loss value decreased slowly, and also the weight value updated slowly towards the optimal value. Let's now understand how the preceding varies when the learning rate is 0.1.*"
      ]
    },
    {
      "cell_type": "markdown",
      "metadata": {
        "id": "fVa34076Nl_r"
      },
      "source": [
        "### Learning rate of 0.1"
      ]
    },
    {
      "cell_type": "code",
      "metadata": {
        "colab": {
          "base_uri": "https://localhost:8080/",
          "height": 503
        },
        "id": "4ETL00oHNs7y",
        "outputId": "3a5036fc-f389-475f-adf8-de15561f048a"
      },
      "source": [
        "X = [[1], [2], [3], [4]]\n",
        "Y = [[3], [6], [9], [12]]\n",
        "\n",
        "W_new = [np.array([[0]], dtype=np.float32), \n",
        "     np.array([[0]], dtype=np.float32)]\n",
        "\n",
        "weight_value_new = []\n",
        "for exp in range(10):\n",
        "    W_new = Update_Weights_modified(X, Y, W_new, 0.1)\n",
        "    weight_value_new.append(W_new[0][0][0])\n",
        "\n",
        "print(W_new)\n",
        "\n",
        "import matplotlib.pyplot as plt\n",
        "%matplotlib inline\n",
        "epochs = range(1, 11)\n",
        "plt.plot(epochs,weight_value_new)\n",
        "plt.title('Weight value over increasing epochs when learning rate is 0.1')\n",
        "plt.xlabel('Epochs')\n",
        "plt.ylabel('Weight value')"
      ],
      "execution_count": 239,
      "outputs": [
        {
          "output_type": "stream",
          "text": [
            "weight value:  0.0 , original loss:  67.5 , loss_plus:  67.5 , gradient:  -45.0 , updated weights:  4.5\n",
            "weight value:  4.5 , original loss:  30.37 , loss_plus:  30.38 , gradient:  30.04 , updated weights:  1.5\n",
            "weight value:  1.5 , original loss:  13.79 , loss_plus:  13.78 , gradient:  -20.31 , updated weights:  3.53\n",
            "weight value:  3.53 , original loss:  6.25 , loss_plus:  6.26 , gradient:  13.46 , updated weights:  2.18\n",
            "weight value:  2.18 , original loss:  2.85 , loss_plus:  2.85 , gradient:  -9.14 , updated weights:  3.1\n",
            "weight value:  3.1 , original loss:  1.33 , loss_plus:  1.33 , gradient:  5.97 , updated weights:  2.5\n",
            "weight value:  2.5 , original loss:  0.65 , loss_plus:  0.65 , gradient:  -4.12 , updated weights:  2.91\n",
            "weight value:  2.91 , original loss:  0.34 , loss_plus:  0.34 , gradient:  2.63 , updated weights:  2.65\n",
            "weight value:  2.65 , original loss:  0.2 , loss_plus:  0.2 , gradient:  -1.88 , updated weights:  2.84\n",
            "weight value:  2.84 , original loss:  0.13 , loss_plus:  0.13 , gradient:  1.14 , updated weights:  2.72\n",
            "[array([[2.7217765]], dtype=float32), array([[0.6589097]], dtype=float32)]\n"
          ],
          "name": "stdout"
        },
        {
          "output_type": "execute_result",
          "data": {
            "text/plain": [
              "Text(0, 0.5, 'Weight value')"
            ]
          },
          "metadata": {
            "tags": []
          },
          "execution_count": 239
        },
        {
          "output_type": "display_data",
          "data": {
            "image/png": "[encoded data removed]",
            "text/plain": [
              "<Figure size 432x288 with 1 Axes>"
            ]
          },
          "metadata": {
            "tags": [],
            "needs_background": "light"
          }
        }
      ]
    },
    {
      "cell_type": "markdown",
      "metadata": {
        "id": "4YA7TZfCN80n"
      },
      "source": [
        "*When the learning rate was 0.01, the weight updated much slower when compared to a learning rate of 0.1 (from 0 to 0.45 in the first epoch when the learning rate is 0.01, to 4.5 when the learning rate is 0.1). The reason for the slower update is the lower learning rate as the weight is updated by the gradient times the learning rate.*\n",
        "\n",
        "In addition to the weight update magnitude, we should note the direction of the weight update:\n",
        "\n",
        "*The gradient is negative when the weight value is smaller than the optimal value while it is positive when the weight value is larger than the optimal value. This phenomenon helps in updating weight values in the right direction.*"
      ]
    },
    {
      "cell_type": "markdown",
      "metadata": {
        "id": "7nU8iLnMOvdf"
      },
      "source": [
        "### Learning rate of 1"
      ]
    },
    {
      "cell_type": "code",
      "metadata": {
        "colab": {
          "base_uri": "https://localhost:8080/",
          "height": 503
        },
        "id": "s8kn3eCsOxVo",
        "outputId": "c2b3e66f-f1dd-4a5e-d492-3791c91e75c2"
      },
      "source": [
        "X = [[1], [2], [3], [4]]\n",
        "Y = [[3], [6], [9], [12]]\n",
        "\n",
        "W_new = [np.array([[0]], dtype=np.float32), \n",
        "     np.array([[0]], dtype=np.float32)]\n",
        "\n",
        "weight_value_new = []\n",
        "for exp in range(10):\n",
        "    W_new = Update_Weights_modified(X, Y, W_new, 1)\n",
        "    weight_value_new.append(W_new[0][0][0])\n",
        "\n",
        "print(W_new)\n",
        "\n",
        "import matplotlib.pyplot as plt\n",
        "%matplotlib inline\n",
        "epochs = range(1, 11)\n",
        "plt.plot(epochs,weight_value_new)\n",
        "plt.title('Weight value over increasing epochs when learning rate is 1')\n",
        "plt.xlabel('Epochs')\n",
        "plt.ylabel('Weight value')"
      ],
      "execution_count": 240,
      "outputs": [
        {
          "output_type": "stream",
          "text": [
            "weight value:  0.0 , original loss:  67.5 , loss_plus:  67.5 , gradient:  -45.0 , updated weights:  45.0\n",
            "weight value:  45.0 , original loss:  16604.45 , loss_plus:  16604.52 , gradient:  699.22 , updated weights:  -654.22\n",
            "weight value:  -654.22 , original loss:  4030779.1 , loss_plus:  4030777.76 , gradient:  -13409.38 , updated weights:  12755.16\n",
            "weight value:  12755.16 , original loss:  1473935827.59 , loss_plus:  1473935827.59 , gradient:  0.0 , updated weights:  12755.16\n",
            "weight value:  12755.16 , original loss:  1473935827.59 , loss_plus:  1473935827.59 , gradient:  0.0 , updated weights:  12755.16\n",
            "weight value:  12755.16 , original loss:  1473935827.59 , loss_plus:  1473935827.59 , gradient:  0.0 , updated weights:  12755.16\n",
            "weight value:  12755.16 , original loss:  1473935827.59 , loss_plus:  1473935827.59 , gradient:  0.0 , updated weights:  12755.16\n",
            "weight value:  12755.16 , original loss:  1473935827.59 , loss_plus:  1473935827.59 , gradient:  0.0 , updated weights:  12755.16\n",
            "weight value:  12755.16 , original loss:  1473935827.59 , loss_plus:  1473935827.59 , gradient:  0.0 , updated weights:  12755.16\n",
            "weight value:  12755.16 , original loss:  1473935827.59 , loss_plus:  1473935827.59 , gradient:  0.0 , updated weights:  12755.16\n",
            "[array([[12755.16]], dtype=float32), array([[3765.9717]], dtype=float32)]\n"
          ],
          "name": "stdout"
        },
        {
          "output_type": "execute_result",
          "data": {
            "text/plain": [
              "Text(0, 0.5, 'Weight value')"
            ]
          },
          "metadata": {
            "tags": []
          },
          "execution_count": 240
        },
        {
          "output_type": "display_data",
          "data": {
            "image/png": "[encoded data removed]",
            "text/plain": [
              "<Figure size 432x288 with 1 Axes>"
            ]
          },
          "metadata": {
            "tags": [],
            "needs_background": "light"
          }
        }
      ]
    },
    {
      "cell_type": "markdown",
      "metadata": {
        "id": "l67fsSyUO_jv"
      },
      "source": [
        "The weight has deviated to a very high value (as at the end of the first epoch, the weight value is 45, which further deviated to a very large value in later epochs).\n",
        "\n",
        "In addition to that, the weight value moved to a very large amount, so that a small change in the weight value hardly results in a change in the gradient, and hence the weight got stuck at that high value.\n",
        "\n",
        "*    *In general, it is better to have a low learning rate. This way, the model is able to learn slowly but will adjust the weights towards an optimal value. Typical learning rate parameter values range between 0.0001 and 0.01.*"
      ]
    }
  ]
}